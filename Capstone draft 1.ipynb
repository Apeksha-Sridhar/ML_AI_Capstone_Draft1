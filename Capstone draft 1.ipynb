  {
   "cell_type": "markdown",
   "id": "0c50bed6",
   "metadata": {},
   "source": [
    "# Import Libraries"
   ]
  },
  {
   "cell_type": "code",
   "execution_count": 1,
   "id": "dce2ba8a",
   "metadata": {},
   "outputs": [],
   "source": [
    "import numpy as np\n",
    "from scipy.io import loadmat\n",
    "import pandas as pd\n",
    "import warnings\n",
    "\n",
    "# Ignore all warnings\n",
    "warnings.filterwarnings(\"ignore\")\n",
    "\n",
    "import pandas as pd\n",
    "import seaborn as sns\n",
    "\n",
    "import os\n",
    "import glob\n",
    "\n",
    "## Add MNE package (needed to read EEG data to path)\n",
    "\n",
    "import sys\n",
    "sys.path.append('/Library/Frameworks/Python.framework/Versions/3.10/lib/python3.10/site-packages')\n",
    "import mne"
   ]
  },
  {
   "cell_type": "markdown",
   "id": "601d2961",
   "metadata": {},
   "source": [
    "## Data set\n",
    "\n",
    "This dataset contains resting(eyes closed, eyes open) and cognitive(subtraction, music, memory) state EEG recordings with 60 participants during three experimental sessions together with sleep, emotion, mental health, and mind-wandering related measures\n"
   ]
  },
  {
   "cell_type": "markdown",
   "id": "f21aff66",
   "metadata": {},
   "source": [
    "1. Convert .mat to .csv files"
   ]
  },
  {
   "cell_type": "code",
   "execution_count": null,
   "id": "741c428b",
   "metadata": {},
   "outputs": [],
   "source": [
    "### Run 1 time: copy and add files from all folders in a directory to a single folder\n",
    "\n",
    "import os\n",
    "import shutil\n",
    "\n",
    "# specify the path of the source directory\n",
    "source_dir = '/Users/apekshasridhar/Downloads/Capstone-2/derivatives'\n",
    "\n",
    "# specify the path of the destination directory\n",
    "destination_dir = '/Users/apekshasridhar/Downloads/Capstone-2/all_subjs'\n",
    "\n",
    "# loop through each subdirectory of the source directory\n",
    "for root, dirs, files in os.walk(source_dir):\n",
    "    # loop through each file in the current subdirectory\n",
    "    for filename in files:\n",
    "        # create the full path of the source file\n",
    "        source_file = os.path.join(root, filename)\n",
    "        # create the full path of the destination file\n",
    "        destination_file = os.path.join(destination_dir, filename)\n",
    "        # transfer the file to the destination directory\n",
    "        shutil.copy(source_file, destination_file)\n"
   ]
  },
  {
   "cell_type": "markdown",
   "id": "877fec9a",
   "metadata": {},
   "source": [
    "## Data Cleaning\n",
    "\n",
    "Load EEG data and calculate the Peak Frequency and Power Spectrum for each EEG ICA channel.\n",
    "I chose to examine the power spectrum feature of the EEG data as it contains valuable information on the spectral characteristics of the brain activity captured by these components. The power spectrum of EEG (electroencephalogram) data refers to the distribution of power or energy across different frequencies in the EEG signal. It provides information about the intensity or strength of different frequency components present in the EEG."
   ]
  },
  {
   "cell_type": "code",
   "execution_count": 3,
   "id": "ac68dc62",
   "metadata": {},
   "outputs": [
    {
     "name": "stdout",
     "output_type": "stream",
     "text": [
      "(3491635, 20)\n"
     ]
    }
   ],
   "source": [
    "## Power Spectrum\n",
    "\n",
    "directory = '/Users/psachdeva/Downloads/Capstone/all_subj'\n",
    "file_pattern = '*.set'\n",
    "\n",
    "mne.set_log_level(\"WARNING\")  # Set the log level to suppress verbose messages\n",
    "\n",
    "def process_file(file_path):\n",
    "    raw = mne.io.read_raw_eeglab(file_path, preload=True)\n",
    "    subj_id = os.path.basename(file_path).split('_')[0]\n",
    "    ch_names = raw.ch_names\n",
    "    # Get indices of EEG channels\n",
    "    eeg_inds = mne.pick_types(raw.info, meg=False, eeg=True)\n",
    "    # Perform Fourier transformation and obtain power spectral density values\n",
    "    psds, freqs = mne.time_frequency.psd_array_multitaper(raw.get_data()[eeg_inds], sfreq=raw.info['sfreq'], fmax=50)\n",
    "    # Create a DataFrame with each row corresponding to a frequency band and each column corresponding to an EEG channel\n",
    "    df = pd.DataFrame(data=psds.T, columns=[ch_names[i] for i in eeg_inds])\n",
    "    df['subj_id'] = subj_id\n",
    "    return df\n",
    "\n",
    "df_list = []\n",
    "for file_path in glob.glob(os.path.join(directory, file_pattern)):\n",
    "    df_list.append(process_file(file_path))\n",
    "\n",
    "df_ps = pd.concat(df_list, axis=0, ignore_index=True)\n",
    "\n",
    "print(df_ps.shape)\n",
    "\n",
    "\n"
   ]
  },
  {
   "cell_type": "code",
   "execution_count": 4,
   "id": "88c4e4ac",
   "metadata": {},
   "outputs": [
    {
     "data": {
      "text/html": [
       "<div>\n",
       "<style scoped>\n",
       "    .dataframe tbody tr th:only-of-type {\n",
       "        vertical-align: middle;\n",
       "    }\n",
       "\n",
       "    .dataframe tbody tr th {\n",
       "        vertical-align: top;\n",
       "    }\n",
       "\n",
       "    .dataframe thead th {\n",
       "        text-align: right;\n",
       "    }\n",
       "</style>\n",
       "<table border=\"1\" class=\"dataframe\">\n",
       "  <thead>\n",
       "    <tr style=\"text-align: right;\">\n",
       "      <th></th>\n",
       "      <th>Fp1</th>\n",
       "      <th>Fp2</th>\n",
       "      <th>F3</th>\n",
       "      <th>F4</th>\n",
       "      <th>C3</th>\n",
       "      <th>C4</th>\n",
       "      <th>P3</th>\n",
       "      <th>P4</th>\n",
       "      <th>O1</th>\n",
       "      <th>O2</th>\n",
       "      <th>F7</th>\n",
       "      <th>F8</th>\n",
       "      <th>T3</th>\n",
       "      <th>T4</th>\n",
       "      <th>T5</th>\n",
       "      <th>T6</th>\n",
       "      <th>Fz</th>\n",
       "      <th>Cz</th>\n",
       "      <th>Pz</th>\n",
       "      <th>subj_id</th>\n",
       "    </tr>\n",
       "  </thead>\n",
       "  <tbody>\n",
       "    <tr>\n",
       "      <th>1497766</th>\n",
       "      <td>3.456479e-10</td>\n",
       "      <td>4.848032e-10</td>\n",
       "      <td>5.909596e-10</td>\n",
       "      <td>2.806760e-10</td>\n",
       "      <td>1.555835e-10</td>\n",
       "      <td>3.884672e-10</td>\n",
       "      <td>3.981191e-10</td>\n",
       "      <td>2.254747e-09</td>\n",
       "      <td>4.013173e-10</td>\n",
       "      <td>2.566690e-10</td>\n",
       "      <td>9.472738e-10</td>\n",
       "      <td>5.808475e-10</td>\n",
       "      <td>1.414834e-09</td>\n",
       "      <td>2.452252e-09</td>\n",
       "      <td>8.923457e-10</td>\n",
       "      <td>2.528870e-08</td>\n",
       "      <td>3.530299e-10</td>\n",
       "      <td>1.661170e-10</td>\n",
       "      <td>3.936644e-10</td>\n",
       "      <td>sub-043</td>\n",
       "    </tr>\n",
       "    <tr>\n",
       "      <th>1497767</th>\n",
       "      <td>6.262147e-10</td>\n",
       "      <td>7.251697e-10</td>\n",
       "      <td>1.071263e-09</td>\n",
       "      <td>4.712029e-10</td>\n",
       "      <td>2.993262e-10</td>\n",
       "      <td>6.860200e-10</td>\n",
       "      <td>8.372421e-10</td>\n",
       "      <td>4.316223e-09</td>\n",
       "      <td>7.732817e-10</td>\n",
       "      <td>9.897943e-10</td>\n",
       "      <td>1.725873e-09</td>\n",
       "      <td>1.433048e-09</td>\n",
       "      <td>2.790919e-09</td>\n",
       "      <td>4.889960e-09</td>\n",
       "      <td>1.770017e-09</td>\n",
       "      <td>5.002903e-08</td>\n",
       "      <td>4.478994e-10</td>\n",
       "      <td>2.626079e-10</td>\n",
       "      <td>9.277851e-10</td>\n",
       "      <td>sub-043</td>\n",
       "    </tr>\n",
       "    <tr>\n",
       "      <th>1497768</th>\n",
       "      <td>5.191710e-10</td>\n",
       "      <td>6.068475e-10</td>\n",
       "      <td>7.748521e-10</td>\n",
       "      <td>3.681062e-10</td>\n",
       "      <td>3.012492e-10</td>\n",
       "      <td>6.698829e-10</td>\n",
       "      <td>9.913889e-10</td>\n",
       "      <td>3.830653e-09</td>\n",
       "      <td>9.667664e-10</td>\n",
       "      <td>1.381889e-09</td>\n",
       "      <td>1.451530e-09</td>\n",
       "      <td>1.285642e-09</td>\n",
       "      <td>2.984181e-09</td>\n",
       "      <td>4.730382e-09</td>\n",
       "      <td>2.008191e-09</td>\n",
       "      <td>5.113066e-08</td>\n",
       "      <td>4.383201e-10</td>\n",
       "      <td>2.520485e-10</td>\n",
       "      <td>7.892252e-10</td>\n",
       "      <td>sub-043</td>\n",
       "    </tr>\n",
       "    <tr>\n",
       "      <th>1497769</th>\n",
       "      <td>5.278613e-10</td>\n",
       "      <td>7.398020e-10</td>\n",
       "      <td>7.386065e-10</td>\n",
       "      <td>4.100529e-10</td>\n",
       "      <td>4.970066e-10</td>\n",
       "      <td>7.398890e-10</td>\n",
       "      <td>1.019270e-09</td>\n",
       "      <td>3.728431e-09</td>\n",
       "      <td>1.122497e-09</td>\n",
       "      <td>1.488191e-09</td>\n",
       "      <td>1.325071e-09</td>\n",
       "      <td>1.358258e-09</td>\n",
       "      <td>2.345280e-09</td>\n",
       "      <td>4.202487e-09</td>\n",
       "      <td>1.942767e-09</td>\n",
       "      <td>5.714192e-08</td>\n",
       "      <td>5.539440e-10</td>\n",
       "      <td>4.364767e-10</td>\n",
       "      <td>1.008254e-09</td>\n",
       "      <td>sub-043</td>\n",
       "    </tr>\n",
       "    <tr>\n",
       "      <th>1497770</th>\n",
       "      <td>5.922459e-10</td>\n",
       "      <td>9.322925e-10</td>\n",
       "      <td>7.852904e-10</td>\n",
       "      <td>5.337888e-10</td>\n",
       "      <td>6.535209e-10</td>\n",
       "      <td>1.026355e-09</td>\n",
       "      <td>1.056596e-09</td>\n",
       "      <td>3.886097e-09</td>\n",
       "      <td>1.335958e-09</td>\n",
       "      <td>1.512088e-09</td>\n",
       "      <td>1.416861e-09</td>\n",
       "      <td>1.283256e-09</td>\n",
       "      <td>2.317017e-09</td>\n",
       "      <td>4.254382e-09</td>\n",
       "      <td>2.173156e-09</td>\n",
       "      <td>6.690499e-08</td>\n",
       "      <td>5.804033e-10</td>\n",
       "      <td>4.974787e-10</td>\n",
       "      <td>1.096744e-09</td>\n",
       "      <td>sub-043</td>\n",
       "    </tr>\n",
       "    <tr>\n",
       "      <th>...</th>\n",
       "      <td>...</td>\n",
       "      <td>...</td>\n",
       "      <td>...</td>\n",
       "      <td>...</td>\n",
       "      <td>...</td>\n",
       "      <td>...</td>\n",
       "      <td>...</td>\n",
       "      <td>...</td>\n",
       "      <td>...</td>\n",
       "      <td>...</td>\n",
       "      <td>...</td>\n",
       "      <td>...</td>\n",
       "      <td>...</td>\n",
       "      <td>...</td>\n",
       "      <td>...</td>\n",
       "      <td>...</td>\n",
       "      <td>...</td>\n",
       "      <td>...</td>\n",
       "      <td>...</td>\n",
       "      <td>...</td>\n",
       "    </tr>\n",
       "    <tr>\n",
       "      <th>1539217</th>\n",
       "      <td>2.088956e-14</td>\n",
       "      <td>2.124298e-14</td>\n",
       "      <td>2.017408e-14</td>\n",
       "      <td>1.586709e-14</td>\n",
       "      <td>2.205441e-14</td>\n",
       "      <td>2.030782e-14</td>\n",
       "      <td>3.196789e-14</td>\n",
       "      <td>2.491829e-14</td>\n",
       "      <td>3.331905e-14</td>\n",
       "      <td>2.944016e-14</td>\n",
       "      <td>2.416632e-14</td>\n",
       "      <td>3.095085e-14</td>\n",
       "      <td>2.610167e-14</td>\n",
       "      <td>3.633650e-14</td>\n",
       "      <td>3.328722e-14</td>\n",
       "      <td>3.381662e-14</td>\n",
       "      <td>2.866247e-14</td>\n",
       "      <td>2.449836e-14</td>\n",
       "      <td>4.748625e-14</td>\n",
       "      <td>sub-043</td>\n",
       "    </tr>\n",
       "    <tr>\n",
       "      <th>1539218</th>\n",
       "      <td>2.589850e-14</td>\n",
       "      <td>2.593294e-14</td>\n",
       "      <td>2.524537e-14</td>\n",
       "      <td>2.004497e-14</td>\n",
       "      <td>2.799309e-14</td>\n",
       "      <td>2.556461e-14</td>\n",
       "      <td>3.967160e-14</td>\n",
       "      <td>2.981267e-14</td>\n",
       "      <td>3.968555e-14</td>\n",
       "      <td>3.486631e-14</td>\n",
       "      <td>2.789622e-14</td>\n",
       "      <td>3.756927e-14</td>\n",
       "      <td>3.474317e-14</td>\n",
       "      <td>4.296367e-14</td>\n",
       "      <td>3.962657e-14</td>\n",
       "      <td>3.934507e-14</td>\n",
       "      <td>3.471793e-14</td>\n",
       "      <td>2.994721e-14</td>\n",
       "      <td>5.702558e-14</td>\n",
       "      <td>sub-043</td>\n",
       "    </tr>\n",
       "    <tr>\n",
       "      <th>1539219</th>\n",
       "      <td>2.851907e-14</td>\n",
       "      <td>2.861572e-14</td>\n",
       "      <td>2.769848e-14</td>\n",
       "      <td>2.210770e-14</td>\n",
       "      <td>2.971456e-14</td>\n",
       "      <td>2.787159e-14</td>\n",
       "      <td>4.112412e-14</td>\n",
       "      <td>3.182515e-14</td>\n",
       "      <td>4.145523e-14</td>\n",
       "      <td>3.630019e-14</td>\n",
       "      <td>3.178867e-14</td>\n",
       "      <td>4.035538e-14</td>\n",
       "      <td>3.482752e-14</td>\n",
       "      <td>4.646345e-14</td>\n",
       "      <td>4.125418e-14</td>\n",
       "      <td>4.093399e-14</td>\n",
       "      <td>3.690096e-14</td>\n",
       "      <td>3.198274e-14</td>\n",
       "      <td>6.011651e-14</td>\n",
       "      <td>sub-043</td>\n",
       "    </tr>\n",
       "    <tr>\n",
       "      <th>1539220</th>\n",
       "      <td>2.442206e-14</td>\n",
       "      <td>2.448317e-14</td>\n",
       "      <td>2.313099e-14</td>\n",
       "      <td>1.889984e-14</td>\n",
       "      <td>2.437944e-14</td>\n",
       "      <td>2.380352e-14</td>\n",
       "      <td>3.424075e-14</td>\n",
       "      <td>2.859108e-14</td>\n",
       "      <td>3.743099e-14</td>\n",
       "      <td>3.154323e-14</td>\n",
       "      <td>2.920813e-14</td>\n",
       "      <td>3.427637e-14</td>\n",
       "      <td>2.666953e-14</td>\n",
       "      <td>4.120801e-14</td>\n",
       "      <td>3.477670e-14</td>\n",
       "      <td>3.723112e-14</td>\n",
       "      <td>3.243050e-14</td>\n",
       "      <td>2.745476e-14</td>\n",
       "      <td>5.233347e-14</td>\n",
       "      <td>sub-043</td>\n",
       "    </tr>\n",
       "    <tr>\n",
       "      <th>1539221</th>\n",
       "      <td>2.360471e-14</td>\n",
       "      <td>2.368653e-14</td>\n",
       "      <td>2.263733e-14</td>\n",
       "      <td>1.796739e-14</td>\n",
       "      <td>2.483605e-14</td>\n",
       "      <td>2.284072e-14</td>\n",
       "      <td>3.562018e-14</td>\n",
       "      <td>2.792272e-14</td>\n",
       "      <td>3.813806e-14</td>\n",
       "      <td>3.179872e-14</td>\n",
       "      <td>2.695153e-14</td>\n",
       "      <td>3.481455e-14</td>\n",
       "      <td>2.917718e-14</td>\n",
       "      <td>4.043646e-14</td>\n",
       "      <td>3.609565e-14</td>\n",
       "      <td>3.670973e-14</td>\n",
       "      <td>3.206362e-14</td>\n",
       "      <td>2.725117e-14</td>\n",
       "      <td>5.255999e-14</td>\n",
       "      <td>sub-043</td>\n",
       "    </tr>\n",
       "  </tbody>\n",
       "</table>\n",
       "<p>41456 rows × 20 columns</p>\n",
       "</div>"
      ],
      "text/plain": [
       "                  Fp1           Fp2            F3            F4            C3  \\\n",
       "1497766  3.456479e-10  4.848032e-10  5.909596e-10  2.806760e-10  1.555835e-10   \n",
       "1497767  6.262147e-10  7.251697e-10  1.071263e-09  4.712029e-10  2.993262e-10   \n",
       "1497768  5.191710e-10  6.068475e-10  7.748521e-10  3.681062e-10  3.012492e-10   \n",
       "1497769  5.278613e-10  7.398020e-10  7.386065e-10  4.100529e-10  4.970066e-10   \n",
       "1497770  5.922459e-10  9.322925e-10  7.852904e-10  5.337888e-10  6.535209e-10   \n",
       "...               ...           ...           ...           ...           ...   \n",
       "1539217  2.088956e-14  2.124298e-14  2.017408e-14  1.586709e-14  2.205441e-14   \n",
       "1539218  2.589850e-14  2.593294e-14  2.524537e-14  2.004497e-14  2.799309e-14   \n",
       "1539219  2.851907e-14  2.861572e-14  2.769848e-14  2.210770e-14  2.971456e-14   \n",
       "1539220  2.442206e-14  2.448317e-14  2.313099e-14  1.889984e-14  2.437944e-14   \n",
       "1539221  2.360471e-14  2.368653e-14  2.263733e-14  1.796739e-14  2.483605e-14   \n",
       "\n",
       "                   C4            P3            P4            O1            O2  \\\n",
       "1497766  3.884672e-10  3.981191e-10  2.254747e-09  4.013173e-10  2.566690e-10   \n",
       "1497767  6.860200e-10  8.372421e-10  4.316223e-09  7.732817e-10  9.897943e-10   \n",
       "1497768  6.698829e-10  9.913889e-10  3.830653e-09  9.667664e-10  1.381889e-09   \n",
       "1497769  7.398890e-10  1.019270e-09  3.728431e-09  1.122497e-09  1.488191e-09   \n",
       "1497770  1.026355e-09  1.056596e-09  3.886097e-09  1.335958e-09  1.512088e-09   \n",
       "...               ...           ...           ...           ...           ...   \n",
       "1539217  2.030782e-14  3.196789e-14  2.491829e-14  3.331905e-14  2.944016e-14   \n",
       "1539218  2.556461e-14  3.967160e-14  2.981267e-14  3.968555e-14  3.486631e-14   \n",
       "1539219  2.787159e-14  4.112412e-14  3.182515e-14  4.145523e-14  3.630019e-14   \n",
       "1539220  2.380352e-14  3.424075e-14  2.859108e-14  3.743099e-14  3.154323e-14   \n",
       "1539221  2.284072e-14  3.562018e-14  2.792272e-14  3.813806e-14  3.179872e-14   \n",
       "\n",
       "                   F7            F8            T3            T4            T5  \\\n",
       "1497766  9.472738e-10  5.808475e-10  1.414834e-09  2.452252e-09  8.923457e-10   \n",
       "1497767  1.725873e-09  1.433048e-09  2.790919e-09  4.889960e-09  1.770017e-09   \n",
       "1497768  1.451530e-09  1.285642e-09  2.984181e-09  4.730382e-09  2.008191e-09   \n",
       "1497769  1.325071e-09  1.358258e-09  2.345280e-09  4.202487e-09  1.942767e-09   \n",
       "1497770  1.416861e-09  1.283256e-09  2.317017e-09  4.254382e-09  2.173156e-09   \n",
       "...               ...           ...           ...           ...           ...   \n",
       "1539217  2.416632e-14  3.095085e-14  2.610167e-14  3.633650e-14  3.328722e-14   \n",
       "1539218  2.789622e-14  3.756927e-14  3.474317e-14  4.296367e-14  3.962657e-14   \n",
       "1539219  3.178867e-14  4.035538e-14  3.482752e-14  4.646345e-14  4.125418e-14   \n",
       "1539220  2.920813e-14  3.427637e-14  2.666953e-14  4.120801e-14  3.477670e-14   \n",
       "1539221  2.695153e-14  3.481455e-14  2.917718e-14  4.043646e-14  3.609565e-14   \n",
       "\n",
       "                   T6            Fz            Cz            Pz  subj_id  \n",
       "1497766  2.528870e-08  3.530299e-10  1.661170e-10  3.936644e-10  sub-043  \n",
       "1497767  5.002903e-08  4.478994e-10  2.626079e-10  9.277851e-10  sub-043  \n",
       "1497768  5.113066e-08  4.383201e-10  2.520485e-10  7.892252e-10  sub-043  \n",
       "1497769  5.714192e-08  5.539440e-10  4.364767e-10  1.008254e-09  sub-043  \n",
       "1497770  6.690499e-08  5.804033e-10  4.974787e-10  1.096744e-09  sub-043  \n",
       "...               ...           ...           ...           ...      ...  \n",
       "1539217  3.381662e-14  2.866247e-14  2.449836e-14  4.748625e-14  sub-043  \n",
       "1539218  3.934507e-14  3.471793e-14  2.994721e-14  5.702558e-14  sub-043  \n",
       "1539219  4.093399e-14  3.690096e-14  3.198274e-14  6.011651e-14  sub-043  \n",
       "1539220  3.723112e-14  3.243050e-14  2.745476e-14  5.233347e-14  sub-043  \n",
       "1539221  3.670973e-14  3.206362e-14  2.725117e-14  5.255999e-14  sub-043  \n",
       "\n",
       "[41456 rows x 20 columns]"
      ]
     },
     "execution_count": 4,
     "metadata": {},
     "output_type": "execute_result"
    }
   ],
   "source": [
    "df_ps.query('subj_id == \"sub-043\"')"
   ]
  },
  {
   "cell_type": "code",
   "execution_count": 5,
   "id": "d2486b35",
   "metadata": {},
   "outputs": [
    {
     "data": {
      "text/html": [
       "<div>\n",
       "<style scoped>\n",
       "    .dataframe tbody tr th:only-of-type {\n",
       "        vertical-align: middle;\n",
       "    }\n",
       "\n",
       "    .dataframe tbody tr th {\n",
       "        vertical-align: top;\n",
       "    }\n",
       "\n",
       "    .dataframe thead th {\n",
       "        text-align: right;\n",
       "    }\n",
       "</style>\n",
       "<table border=\"1\" class=\"dataframe\">\n",
       "  <thead>\n",
       "    <tr style=\"text-align: right;\">\n",
       "      <th></th>\n",
       "      <th>Fp1</th>\n",
       "      <th>Fp2</th>\n",
       "      <th>F3</th>\n",
       "      <th>F4</th>\n",
       "      <th>C3</th>\n",
       "      <th>C4</th>\n",
       "      <th>P3</th>\n",
       "      <th>P4</th>\n",
       "      <th>O1</th>\n",
       "      <th>O2</th>\n",
       "      <th>F7</th>\n",
       "      <th>F8</th>\n",
       "      <th>T3</th>\n",
       "      <th>T4</th>\n",
       "      <th>T5</th>\n",
       "      <th>T6</th>\n",
       "      <th>Fz</th>\n",
       "      <th>Cz</th>\n",
       "      <th>Pz</th>\n",
       "      <th>subj_id</th>\n",
       "    </tr>\n",
       "  </thead>\n",
       "  <tbody>\n",
       "    <tr>\n",
       "      <th>0</th>\n",
       "      <td>1.665430e-08</td>\n",
       "      <td>1.270350e-08</td>\n",
       "      <td>2.524103e-08</td>\n",
       "      <td>1.739066e-08</td>\n",
       "      <td>1.143372e-08</td>\n",
       "      <td>1.052040e-08</td>\n",
       "      <td>1.405535e-08</td>\n",
       "      <td>2.396266e-08</td>\n",
       "      <td>1.537117e-08</td>\n",
       "      <td>1.771806e-08</td>\n",
       "      <td>4.844818e-08</td>\n",
       "      <td>1.838076e-08</td>\n",
       "      <td>2.995764e-08</td>\n",
       "      <td>1.906910e-08</td>\n",
       "      <td>6.469620e-09</td>\n",
       "      <td>2.634399e-08</td>\n",
       "      <td>8.318266e-09</td>\n",
       "      <td>1.287837e-08</td>\n",
       "      <td>1.710144e-08</td>\n",
       "      <td>sub-053</td>\n",
       "    </tr>\n",
       "    <tr>\n",
       "      <th>1</th>\n",
       "      <td>2.859561e-08</td>\n",
       "      <td>2.302408e-08</td>\n",
       "      <td>4.044244e-08</td>\n",
       "      <td>3.238632e-08</td>\n",
       "      <td>2.085291e-08</td>\n",
       "      <td>1.678708e-08</td>\n",
       "      <td>2.238895e-08</td>\n",
       "      <td>3.955857e-08</td>\n",
       "      <td>2.535311e-08</td>\n",
       "      <td>2.796084e-08</td>\n",
       "      <td>7.046391e-08</td>\n",
       "      <td>3.495201e-08</td>\n",
       "      <td>5.081265e-08</td>\n",
       "      <td>3.214823e-08</td>\n",
       "      <td>1.039039e-08</td>\n",
       "      <td>4.322113e-08</td>\n",
       "      <td>1.565993e-08</td>\n",
       "      <td>2.119243e-08</td>\n",
       "      <td>2.798031e-08</td>\n",
       "      <td>sub-053</td>\n",
       "    </tr>\n",
       "    <tr>\n",
       "      <th>2</th>\n",
       "      <td>2.574662e-08</td>\n",
       "      <td>2.079401e-08</td>\n",
       "      <td>3.032388e-08</td>\n",
       "      <td>2.951672e-08</td>\n",
       "      <td>1.821214e-08</td>\n",
       "      <td>1.307517e-08</td>\n",
       "      <td>1.987769e-08</td>\n",
       "      <td>3.362596e-08</td>\n",
       "      <td>2.310237e-08</td>\n",
       "      <td>2.420352e-08</td>\n",
       "      <td>6.098180e-08</td>\n",
       "      <td>3.278854e-08</td>\n",
       "      <td>4.358694e-08</td>\n",
       "      <td>2.574601e-08</td>\n",
       "      <td>9.356121e-09</td>\n",
       "      <td>3.680394e-08</td>\n",
       "      <td>1.390296e-08</td>\n",
       "      <td>1.824903e-08</td>\n",
       "      <td>2.508709e-08</td>\n",
       "      <td>sub-053</td>\n",
       "    </tr>\n",
       "    <tr>\n",
       "      <th>3</th>\n",
       "      <td>2.362315e-08</td>\n",
       "      <td>1.812986e-08</td>\n",
       "      <td>3.150481e-08</td>\n",
       "      <td>2.873453e-08</td>\n",
       "      <td>1.571261e-08</td>\n",
       "      <td>1.233290e-08</td>\n",
       "      <td>1.945689e-08</td>\n",
       "      <td>2.971269e-08</td>\n",
       "      <td>2.277299e-08</td>\n",
       "      <td>2.311132e-08</td>\n",
       "      <td>7.560206e-08</td>\n",
       "      <td>2.994362e-08</td>\n",
       "      <td>4.289656e-08</td>\n",
       "      <td>2.484679e-08</td>\n",
       "      <td>9.677100e-09</td>\n",
       "      <td>3.247367e-08</td>\n",
       "      <td>1.175431e-08</td>\n",
       "      <td>1.630433e-08</td>\n",
       "      <td>2.423400e-08</td>\n",
       "      <td>sub-053</td>\n",
       "    </tr>\n",
       "    <tr>\n",
       "      <th>4</th>\n",
       "      <td>2.398729e-08</td>\n",
       "      <td>1.834572e-08</td>\n",
       "      <td>3.417963e-08</td>\n",
       "      <td>3.280131e-08</td>\n",
       "      <td>1.754965e-08</td>\n",
       "      <td>1.519289e-08</td>\n",
       "      <td>1.997324e-08</td>\n",
       "      <td>3.286296e-08</td>\n",
       "      <td>2.336773e-08</td>\n",
       "      <td>2.363762e-08</td>\n",
       "      <td>7.789128e-08</td>\n",
       "      <td>3.223800e-08</td>\n",
       "      <td>4.845108e-08</td>\n",
       "      <td>2.691604e-08</td>\n",
       "      <td>1.008939e-08</td>\n",
       "      <td>3.490305e-08</td>\n",
       "      <td>1.174247e-08</td>\n",
       "      <td>1.670083e-08</td>\n",
       "      <td>2.484077e-08</td>\n",
       "      <td>sub-053</td>\n",
       "    </tr>\n",
       "  </tbody>\n",
       "</table>\n",
       "</div>"
      ],
      "text/plain": [
       "            Fp1           Fp2            F3            F4            C3  \\\n",
       "0  1.665430e-08  1.270350e-08  2.524103e-08  1.739066e-08  1.143372e-08   \n",
       "1  2.859561e-08  2.302408e-08  4.044244e-08  3.238632e-08  2.085291e-08   \n",
       "2  2.574662e-08  2.079401e-08  3.032388e-08  2.951672e-08  1.821214e-08   \n",
       "3  2.362315e-08  1.812986e-08  3.150481e-08  2.873453e-08  1.571261e-08   \n",
       "4  2.398729e-08  1.834572e-08  3.417963e-08  3.280131e-08  1.754965e-08   \n",
       "\n",
       "             C4            P3            P4            O1            O2  \\\n",
       "0  1.052040e-08  1.405535e-08  2.396266e-08  1.537117e-08  1.771806e-08   \n",
       "1  1.678708e-08  2.238895e-08  3.955857e-08  2.535311e-08  2.796084e-08   \n",
       "2  1.307517e-08  1.987769e-08  3.362596e-08  2.310237e-08  2.420352e-08   \n",
       "3  1.233290e-08  1.945689e-08  2.971269e-08  2.277299e-08  2.311132e-08   \n",
       "4  1.519289e-08  1.997324e-08  3.286296e-08  2.336773e-08  2.363762e-08   \n",
       "\n",
       "             F7            F8            T3            T4            T5  \\\n",
       "0  4.844818e-08  1.838076e-08  2.995764e-08  1.906910e-08  6.469620e-09   \n",
       "1  7.046391e-08  3.495201e-08  5.081265e-08  3.214823e-08  1.039039e-08   \n",
       "2  6.098180e-08  3.278854e-08  4.358694e-08  2.574601e-08  9.356121e-09   \n",
       "3  7.560206e-08  2.994362e-08  4.289656e-08  2.484679e-08  9.677100e-09   \n",
       "4  7.789128e-08  3.223800e-08  4.845108e-08  2.691604e-08  1.008939e-08   \n",
       "\n",
       "             T6            Fz            Cz            Pz  subj_id  \n",
       "0  2.634399e-08  8.318266e-09  1.287837e-08  1.710144e-08  sub-053  \n",
       "1  4.322113e-08  1.565993e-08  2.119243e-08  2.798031e-08  sub-053  \n",
       "2  3.680394e-08  1.390296e-08  1.824903e-08  2.508709e-08  sub-053  \n",
       "3  3.247367e-08  1.175431e-08  1.630433e-08  2.423400e-08  sub-053  \n",
       "4  3.490305e-08  1.174247e-08  1.670083e-08  2.484077e-08  sub-053  "
      ]
     },
     "execution_count": 5,
     "metadata": {},
     "output_type": "execute_result"
    }
   ],
   "source": [
    "df_ps.head()"
   ]
  },
  {
   "cell_type": "markdown",
   "id": "c50afe40",
   "metadata": {},
   "source": [
    "### Feature Engineering"
   ]
  },
  {
   "cell_type": "code",
   "execution_count": 4,
   "id": "74ecb094",
   "metadata": {},
   "outputs": [
    {
     "data": {
      "text/plain": [
       "Fp1        0\n",
       "Fp2        0\n",
       "F3         0\n",
       "F4         0\n",
       "C3         0\n",
       "C4         0\n",
       "P3         0\n",
       "P4         0\n",
       "O1         0\n",
       "O2         0\n",
       "F7         0\n",
       "F8         0\n",
       "T3         0\n",
       "T4         0\n",
       "T5         0\n",
       "T6         0\n",
       "Fz         0\n",
       "Cz         0\n",
       "Pz         0\n",
       "subj_id    0\n",
       "dtype: int64"
      ]
     },
     "execution_count": 4,
     "metadata": {},
     "output_type": "execute_result"
    }
   ],
   "source": [
    "df_ps.isnull().sum()"
   ]
  },
  {
   "cell_type": "code",
   "execution_count": 5,
   "id": "c1e23b23",
   "metadata": {},
   "outputs": [
    {
     "data": {
      "text/html": [
       "<div>\n",
       "<style scoped>\n",
       "    .dataframe tbody tr th:only-of-type {\n",
       "        vertical-align: middle;\n",
       "    }\n",
       "\n",
       "    .dataframe tbody tr th {\n",
       "        vertical-align: top;\n",
       "    }\n",
       "\n",
       "    .dataframe thead th {\n",
       "        text-align: right;\n",
       "    }\n",
       "</style>\n",
       "<table border=\"1\" class=\"dataframe\">\n",
       "  <thead>\n",
       "    <tr style=\"text-align: right;\">\n",
       "      <th></th>\n",
       "      <th>Fp1</th>\n",
       "      <th>Fp2</th>\n",
       "      <th>F3</th>\n",
       "      <th>F4</th>\n",
       "      <th>C3</th>\n",
       "      <th>C4</th>\n",
       "      <th>P3</th>\n",
       "      <th>P4</th>\n",
       "      <th>O1</th>\n",
       "      <th>O2</th>\n",
       "      <th>...</th>\n",
       "      <th>T4</th>\n",
       "      <th>T5</th>\n",
       "      <th>T6</th>\n",
       "      <th>Fz</th>\n",
       "      <th>Cz</th>\n",
       "      <th>Pz</th>\n",
       "      <th>Gender</th>\n",
       "      <th>Age</th>\n",
       "      <th>Group</th>\n",
       "      <th>MMSE</th>\n",
       "    </tr>\n",
       "    <tr>\n",
       "      <th>subj_id</th>\n",
       "      <th></th>\n",
       "      <th></th>\n",
       "      <th></th>\n",
       "      <th></th>\n",
       "      <th></th>\n",
       "      <th></th>\n",
       "      <th></th>\n",
       "      <th></th>\n",
       "      <th></th>\n",
       "      <th></th>\n",
       "      <th></th>\n",
       "      <th></th>\n",
       "      <th></th>\n",
       "      <th></th>\n",
       "      <th></th>\n",
       "      <th></th>\n",
       "      <th></th>\n",
       "      <th></th>\n",
       "      <th></th>\n",
       "      <th></th>\n",
       "      <th></th>\n",
       "    </tr>\n",
       "  </thead>\n",
       "  <tbody>\n",
       "    <tr>\n",
       "      <th>sub-053</th>\n",
       "      <td>1.665430e-08</td>\n",
       "      <td>1.270350e-08</td>\n",
       "      <td>2.524103e-08</td>\n",
       "      <td>1.739066e-08</td>\n",
       "      <td>1.143372e-08</td>\n",
       "      <td>1.052040e-08</td>\n",
       "      <td>1.405535e-08</td>\n",
       "      <td>2.396266e-08</td>\n",
       "      <td>1.537117e-08</td>\n",
       "      <td>1.771806e-08</td>\n",
       "      <td>...</td>\n",
       "      <td>1.906910e-08</td>\n",
       "      <td>6.469620e-09</td>\n",
       "      <td>2.634399e-08</td>\n",
       "      <td>8.318266e-09</td>\n",
       "      <td>1.287837e-08</td>\n",
       "      <td>1.710144e-08</td>\n",
       "      <td>M</td>\n",
       "      <td>70</td>\n",
       "      <td>C</td>\n",
       "      <td>30</td>\n",
       "    </tr>\n",
       "    <tr>\n",
       "      <th>sub-053</th>\n",
       "      <td>2.859561e-08</td>\n",
       "      <td>2.302408e-08</td>\n",
       "      <td>4.044244e-08</td>\n",
       "      <td>3.238632e-08</td>\n",
       "      <td>2.085291e-08</td>\n",
       "      <td>1.678708e-08</td>\n",
       "      <td>2.238895e-08</td>\n",
       "      <td>3.955857e-08</td>\n",
       "      <td>2.535311e-08</td>\n",
       "      <td>2.796084e-08</td>\n",
       "      <td>...</td>\n",
       "      <td>3.214823e-08</td>\n",
       "      <td>1.039039e-08</td>\n",
       "      <td>4.322113e-08</td>\n",
       "      <td>1.565993e-08</td>\n",
       "      <td>2.119243e-08</td>\n",
       "      <td>2.798031e-08</td>\n",
       "      <td>M</td>\n",
       "      <td>70</td>\n",
       "      <td>C</td>\n",
       "      <td>30</td>\n",
       "    </tr>\n",
       "    <tr>\n",
       "      <th>sub-053</th>\n",
       "      <td>2.574662e-08</td>\n",
       "      <td>2.079401e-08</td>\n",
       "      <td>3.032388e-08</td>\n",
       "      <td>2.951672e-08</td>\n",
       "      <td>1.821214e-08</td>\n",
       "      <td>1.307517e-08</td>\n",
       "      <td>1.987769e-08</td>\n",
       "      <td>3.362596e-08</td>\n",
       "      <td>2.310237e-08</td>\n",
       "      <td>2.420352e-08</td>\n",
       "      <td>...</td>\n",
       "      <td>2.574601e-08</td>\n",
       "      <td>9.356121e-09</td>\n",
       "      <td>3.680394e-08</td>\n",
       "      <td>1.390296e-08</td>\n",
       "      <td>1.824903e-08</td>\n",
       "      <td>2.508709e-08</td>\n",
       "      <td>M</td>\n",
       "      <td>70</td>\n",
       "      <td>C</td>\n",
       "      <td>30</td>\n",
       "    </tr>\n",
       "    <tr>\n",
       "      <th>sub-053</th>\n",
       "      <td>2.362315e-08</td>\n",
       "      <td>1.812986e-08</td>\n",
       "      <td>3.150481e-08</td>\n",
       "      <td>2.873453e-08</td>\n",
       "      <td>1.571261e-08</td>\n",
       "      <td>1.233290e-08</td>\n",
       "      <td>1.945689e-08</td>\n",
       "      <td>2.971269e-08</td>\n",
       "      <td>2.277299e-08</td>\n",
       "      <td>2.311132e-08</td>\n",
       "      <td>...</td>\n",
       "      <td>2.484679e-08</td>\n",
       "      <td>9.677100e-09</td>\n",
       "      <td>3.247367e-08</td>\n",
       "      <td>1.175431e-08</td>\n",
       "      <td>1.630433e-08</td>\n",
       "      <td>2.423400e-08</td>\n",
       "      <td>M</td>\n",
       "      <td>70</td>\n",
       "      <td>C</td>\n",
       "      <td>30</td>\n",
       "    </tr>\n",
       "    <tr>\n",
       "      <th>sub-053</th>\n",
       "      <td>2.398729e-08</td>\n",
       "      <td>1.834572e-08</td>\n",
       "      <td>3.417963e-08</td>\n",
       "      <td>3.280131e-08</td>\n",
       "      <td>1.754965e-08</td>\n",
       "      <td>1.519289e-08</td>\n",
       "      <td>1.997324e-08</td>\n",
       "      <td>3.286296e-08</td>\n",
       "      <td>2.336773e-08</td>\n",
       "      <td>2.363762e-08</td>\n",
       "      <td>...</td>\n",
       "      <td>2.691604e-08</td>\n",
       "      <td>1.008939e-08</td>\n",
       "      <td>3.490305e-08</td>\n",
       "      <td>1.174247e-08</td>\n",
       "      <td>1.670083e-08</td>\n",
       "      <td>2.484077e-08</td>\n",
       "      <td>M</td>\n",
       "      <td>70</td>\n",
       "      <td>C</td>\n",
       "      <td>30</td>\n",
       "    </tr>\n",
       "  </tbody>\n",
       "</table>\n",
       "<p>5 rows × 23 columns</p>\n",
       "</div>"
      ],
      "text/plain": [
       "                  Fp1           Fp2            F3            F4            C3  \\\n",
       "subj_id                                                                         \n",
       "sub-053  1.665430e-08  1.270350e-08  2.524103e-08  1.739066e-08  1.143372e-08   \n",
       "sub-053  2.859561e-08  2.302408e-08  4.044244e-08  3.238632e-08  2.085291e-08   \n",
       "sub-053  2.574662e-08  2.079401e-08  3.032388e-08  2.951672e-08  1.821214e-08   \n",
       "sub-053  2.362315e-08  1.812986e-08  3.150481e-08  2.873453e-08  1.571261e-08   \n",
       "sub-053  2.398729e-08  1.834572e-08  3.417963e-08  3.280131e-08  1.754965e-08   \n",
       "\n",
       "                   C4            P3            P4            O1            O2  \\\n",
       "subj_id                                                                         \n",
       "sub-053  1.052040e-08  1.405535e-08  2.396266e-08  1.537117e-08  1.771806e-08   \n",
       "sub-053  1.678708e-08  2.238895e-08  3.955857e-08  2.535311e-08  2.796084e-08   \n",
       "sub-053  1.307517e-08  1.987769e-08  3.362596e-08  2.310237e-08  2.420352e-08   \n",
       "sub-053  1.233290e-08  1.945689e-08  2.971269e-08  2.277299e-08  2.311132e-08   \n",
       "sub-053  1.519289e-08  1.997324e-08  3.286296e-08  2.336773e-08  2.363762e-08   \n",
       "\n",
       "         ...            T4            T5            T6            Fz  \\\n",
       "subj_id  ...                                                           \n",
       "sub-053  ...  1.906910e-08  6.469620e-09  2.634399e-08  8.318266e-09   \n",
       "sub-053  ...  3.214823e-08  1.039039e-08  4.322113e-08  1.565993e-08   \n",
       "sub-053  ...  2.574601e-08  9.356121e-09  3.680394e-08  1.390296e-08   \n",
       "sub-053  ...  2.484679e-08  9.677100e-09  3.247367e-08  1.175431e-08   \n",
       "sub-053  ...  2.691604e-08  1.008939e-08  3.490305e-08  1.174247e-08   \n",
       "\n",
       "                   Cz            Pz  Gender  Age  Group MMSE  \n",
       "subj_id                                                       \n",
       "sub-053  1.287837e-08  1.710144e-08       M   70      C   30  \n",
       "sub-053  2.119243e-08  2.798031e-08       M   70      C   30  \n",
       "sub-053  1.824903e-08  2.508709e-08       M   70      C   30  \n",
       "sub-053  1.630433e-08  2.423400e-08       M   70      C   30  \n",
       "sub-053  1.670083e-08  2.484077e-08       M   70      C   30  \n",
       "\n",
       "[5 rows x 23 columns]"
      ]
     },
     "execution_count": 5,
     "metadata": {},
     "output_type": "execute_result"
    }
   ],
   "source": [
    "## Add diagnosis as column to df\n",
    "\n",
    "dx = pd.read_csv('/Users/psachdeva/Downloads/Capstone/participants.tsv', sep='\\t')\n",
    "df_ps_new = pd.merge(df_ps, dx, left_on='subj_id', right_on='participant_id', how = 'left')\n",
    "df_ps_new.drop('participant_id', axis=1, inplace=True)\n",
    "df_ps_new = df_ps_new.set_index('subj_id')\n",
    "df_ps_new.head()"
   ]
  },
  {
   "cell_type": "markdown",
   "id": "dbb6c9f7",
   "metadata": {},
   "source": [
    "#### Examine balance of classes in target variable."
   ]
  },
  {
   "cell_type": "code",
   "execution_count": 9,
   "id": "31bfaa03",
   "metadata": {},
   "outputs": [
    {
     "data": {
      "text/plain": [
       "A    1456681\n",
       "C    1205476\n",
       "F     829478\n",
       "Name: Group, dtype: int64"
      ]
     },
     "execution_count": 9,
     "metadata": {},
     "output_type": "execute_result"
    }
   ],
   "source": [
    "df_ps_new.Group.value_counts()"
   ]
  },
  {
   "cell_type": "code",
   "execution_count": 18,
   "id": "bd98898a",
   "metadata": {},
   "outputs": [
    {
     "data": {
      "image/png": "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\n",
      "text/plain": [
       "<Figure size 640x480 with 1 Axes>"
      ]
     },
     "metadata": {},
     "output_type": "display_data"
    }
   ],
   "source": [
    "import matplotlib.pyplot as plt\n",
    "\n",
    "# Create a bar plot of y\n",
    "plt.bar(df_ps_new.Group.unique(), df_ps_new.Group.value_counts())\n",
    "\n",
    "# Add labels and title to the plot\n",
    "plt.xlabel('Diagnosis')\n",
    "plt.ylabel('Frequency')\n",
    "plt.title('Bar Graph of Target Variable')\n",
    "\n",
    "# Show the plot\n",
    "plt.show()"
   ]
  },
  {
   "cell_type": "markdown",
   "id": "260cb923",
   "metadata": {},
   "source": [
    "*Here, C stands for the control group, F for the frontotemporal group and A for the ALzhiemers group. It looks like although the control group is much higher, a 40-35-25 balance of classes would be considered slightly imbalanced. But for our research question, this level of imbalance is acceptable.*"
   ]
  },
  {
   "cell_type": "markdown",
   "id": "be4372de",
   "metadata": {},
   "source": [
    "#### Convert target variable to numeric values."
   ]
  },
  {
   "cell_type": "code",
   "execution_count": 10,
   "id": "a8a45801",
   "metadata": {},
   "outputs": [],
   "source": [
    "# Now convert y to numerical\n",
    "\n",
    "df_ps_new['dx_num'] = df_ps_new['Group'].map({\n",
    "    'C': 0,\n",
    "    'F': 1, \n",
    "    'A': 2\n",
    "})"
   ]
  },
  {
   "cell_type": "code",
   "execution_count": 11,
   "id": "625cb1f9",
   "metadata": {},
   "outputs": [
    {
     "data": {
      "text/plain": [
       "Index(['Fp1', 'Fp2', 'F3', 'F4', 'C3', 'C4', 'P3', 'P4', 'O1', 'O2', 'F7',\n",
       "       'F8', 'T3', 'T4', 'T5', 'T6', 'Fz', 'Cz', 'Pz', 'Age', 'Group', 'MMSE',\n",
       "       'dx_num'],\n",
       "      dtype='object')"
      ]
     },
     "execution_count": 11,
     "metadata": {},
     "output_type": "execute_result"
    }
   ],
   "source": [
    "df_ps_new.drop(columns = 'Gender', inplace = True, axis = 1)\n",
    "df_ps_new.columns"
   ]
  },
  {
   "cell_type": "code",
   "execution_count": 13,
   "id": "cc99f124",
   "metadata": {},
   "outputs": [
    {
     "name": "stdout",
     "output_type": "stream",
     "text": [
      "<class 'pandas.core.frame.DataFrame'>\n",
      "Index: 3491635 entries, sub-053 to sub-009\n",
      "Data columns (total 23 columns):\n",
      " #   Column  Dtype  \n",
      "---  ------  -----  \n",
      " 0   Fp1     float64\n",
      " 1   Fp2     float64\n",
      " 2   F3      float64\n",
      " 3   F4      float64\n",
      " 4   C3      float64\n",
      " 5   C4      float64\n",
      " 6   P3      float64\n",
      " 7   P4      float64\n",
      " 8   O1      float64\n",
      " 9   O2      float64\n",
      " 10  F7      float64\n",
      " 11  F8      float64\n",
      " 12  T3      float64\n",
      " 13  T4      float64\n",
      " 14  T5      float64\n",
      " 15  T6      float64\n",
      " 16  Fz      float64\n",
      " 17  Cz      float64\n",
      " 18  Pz      float64\n",
      " 19  Age     int64  \n",
      " 20  Group   object \n",
      " 21  MMSE    int64  \n",
      " 22  dx_num  int64  \n",
      "dtypes: float64(19), int64(3), object(1)\n",
      "memory usage: 639.3+ MB\n"
     ]
    }
   ],
   "source": [
    "df_ps_new.info()"
   ]
  },
  {
   "cell_type": "markdown",
   "id": "b9418c3c",
   "metadata": {},
   "source": [
    "### Train Test Split"
   ]
  },
  {
   "cell_type": "code",
   "execution_count": 12,
   "id": "44b5664d",
   "metadata": {},
   "outputs": [],
   "source": [
    "\n",
    "X = df_ps_new.reset_index().drop(columns = ['dx_num', 'Group', 'subj_id', 'Age'], axis=1)\n",
    "y = df_ps_new['dx_num']"
   ]
  },
  {
   "cell_type": "code",
   "execution_count": 13,
   "id": "3f8e12c5",
   "metadata": {},
   "outputs": [],
   "source": [
    "from sklearn.model_selection import train_test_split\n",
    "\n",
    "X_train, X_test, y_train, y_test = train_test_split(X, y, test_size = 0.2, random_state = 32, stratify = y)\n"
   ]
  },
  {
   "cell_type": "markdown",
   "id": "49c1ce97",
   "metadata": {},
   "source": [
    "#### Oversampling for Balanced Classes using SMOTE."
   ]
  },
  {
   "cell_type": "code",
   "execution_count": 14,
   "id": "640714ab",
   "metadata": {},
   "outputs": [
    {
     "name": "stdout",
     "output_type": "stream",
     "text": [
      "(3496035, 20) (2793308, 20)\n"
     ]
    }
   ],
   "source": [
    "from imblearn.over_sampling import SMOTE\n",
    "\n",
    "# initialize SMOTE\n",
    "sm = SMOTE(random_state=42)\n",
    "X_train_resampled, y_train_resampled = sm.fit_resample(X_train, y_train)\n",
    "\n",
    "print(X_train_resampled.shape, X_train.shape)\n"
   ]
  },
  {
   "cell_type": "code",
   "execution_count": 18,
   "id": "42ee894c",
   "metadata": {},
   "outputs": [
    {
     "data": {
      "text/plain": [
       "Index(['Fp1', 'Fp2', 'F3', 'F4', 'C3', 'C4', 'P3', 'P4', 'O1', 'O2', 'F7',\n",
       "       'F8', 'T3', 'T4', 'T5', 'T6', 'Fz', 'Cz', 'Pz', 'MMSE'],\n",
       "      dtype='object')"
      ]
     },
     "execution_count": 18,
     "metadata": {},
     "output_type": "execute_result"
    }
   ],
   "source": [
    "X_train_resampled.columns"
   ]
  },
  {
   "cell_type": "code",
   "execution_count": 19,
   "id": "e926b807",
   "metadata": {},
   "outputs": [
    {
     "data": {
      "text/plain": [
       "0    1165345\n",
       "2    1165345\n",
       "1    1165345\n",
       "Name: dx_num, dtype: int64"
      ]
     },
     "execution_count": 19,
     "metadata": {},
     "output_type": "execute_result"
    }
   ],
   "source": [
    "y_train_resampled.value_counts()"
   ]
  },
  {
   "cell_type": "markdown",
   "id": "633ced28",
   "metadata": {},
   "source": [
    "# Research Question 1"
   ]
  },
  {
   "cell_type": "markdown",
   "id": "fac85dcb",
   "metadata": {},
   "source": [
    "Can the analysis of specific EEG components, such peak frequency, be used as reliable biomarkers to predict the diagnosis of Alzheimer's disease?"
   ]
  },
  {
   "cell_type": "markdown",
   "id": "4d1be7d6",
   "metadata": {},
   "source": [
    "### PCA"
   ]
  },
  {
   "cell_type": "markdown",
   "id": "acbc87eb",
   "metadata": {},
   "source": [
    "#### Scree plot to choose best number of components for PCA."
   ]
  },
  {
   "cell_type": "code",
   "execution_count": 19,
   "id": "bbd53665",
   "metadata": {},
   "outputs": [
    {
     "data": {
      "image/png": "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\n",
      "text/plain": [
       "<Figure size 640x480 with 1 Axes>"
      ]
     },
     "metadata": {},
     "output_type": "display_data"
    }
   ],
   "source": [
    "from sklearn.decomposition import PCA\n",
    "from sklearn.preprocessing import StandardScaler\n",
    "\n",
    "# Create a StandardScaler object\n",
    "scaler = StandardScaler()\n",
    "\n",
    "# Scale the training data\n",
    "X_train_scaled = scaler.fit_transform(X_train_resampled)\n",
    "\n",
    "# Create a PCA object\n",
    "pca = PCA()\n",
    "\n",
    "# Fit the PCA model to the scaled data\n",
    "pca.fit(X_train_scaled)\n",
    "\n",
    "# Plot the scree plot\n",
    "plt.plot(np.cumsum(pca.explained_variance_ratio_))\n",
    "plt.xlabel('Number of components')\n",
    "plt.ylabel('Cumulative explained variance')\n",
    "\n",
    "x_ticks = np.arange(1, len(pca.explained_variance_ratio_) + 1)\n",
    "plt.xticks(x_ticks)\n",
    "\n",
    "# Draw dotted lines from the tick labels to the plot\n",
    "for tick in x_ticks:\n",
    "    plt.axvline(tick, linestyle='dotted', color='gray')\n",
    "\n",
    "plt.show()"
   ]
  },
  {
   "cell_type": "markdown",
   "id": "4402f08c",
   "metadata": {},
   "source": [
    "2 components are more than enough!"
   ]
  },
  {
   "cell_type": "markdown",
   "id": "cafae4a0",
   "metadata": {},
   "source": [
    "#### Running PCA."
   ]
  },
  {
   "cell_type": "code",
   "execution_count": 20,
   "id": "48ab3728",
   "metadata": {},
   "outputs": [
    {
     "data": {
      "image/png": "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\n",
      "text/plain": [
       "<Figure size 640x480 with 2 Axes>"
      ]
     },
     "metadata": {},
     "output_type": "display_data"
    }
   ],
   "source": [
    "from sklearn.decomposition import PCA\n",
    "\n",
    "# Apply PCA to reduce the dimensionality of the data\n",
    "pca = PCA(n_components=2)\n",
    "X_train_reduced = pca.fit_transform(X_train_scaled)\n",
    "\n",
    "# Plot the reduced data\n",
    "plt.scatter(X_train_scaled[:, 0], X_train_scaled[:, 1], c=y_train_resampled)\n",
    "plt.colorbar()\n",
    "plt.show()\n"
   ]
  },
  {
   "cell_type": "markdown",
   "id": "46a746d2",
   "metadata": {},
   "source": [
    "Selected features: 2 PCA components "
   ]
  },
  {
   "cell_type": "code",
   "execution_count": 21,
   "id": "51018f0d",
   "metadata": {},
   "outputs": [],
   "source": [
    "# Converting components to DF\n",
    "\n",
    "X_train_reduced = pd.DataFrame(data=X_train_reduced, columns=['Component 1', 'Component 2'])\n"
   ]
  },
  {
   "cell_type": "markdown",
   "id": "2c18bfa3",
   "metadata": {},
   "source": [
    "### Performance Metric"
   ]
  },
  {
   "cell_type": "markdown",
   "id": "f448f8dd",
   "metadata": {},
   "source": [
    "As it is a multi class classification problem, and since I have balanced all classes, accuracy will be the best metric to use in this scenario."
   ]
  },
  {
   "cell_type": "markdown",
   "id": "16c595de",
   "metadata": {},
   "source": [
    "### Logistic Regression"
   ]
  },
  {
   "cell_type": "markdown",
   "id": "da6aaa21",
   "metadata": {},
   "source": [
    "With the 2 PCA components"
   ]
  },
  {
   "cell_type": "code",
   "execution_count": 25,
   "id": "3109ac88",
   "metadata": {},
   "outputs": [
    {
     "name": "stdout",
     "output_type": "stream",
     "text": [
      "Best hyperparameters:  {'lgr__C': 0.1, 'lgr__penalty': 'l2'}\n",
      "Best Score:  0.6265329151453003\n",
      "Test Accuracy Score:  0.7303111579532224\n",
      "Fit time:  [6.55399923]\n"
     ]
    }
   ],
   "source": [
    "from sklearn.model_selection import GridSearchCV\n",
    "from sklearn.metrics import recall_score\n",
    "from sklearn.pipeline import Pipeline\n",
    "from sklearn.preprocessing import StandardScaler\n",
    "from sklearn.linear_model import LogisticRegression\n",
    "from sklearn.metrics import make_scorer, recall_score, accuracy_score\n",
    "\n",
    "\n",
    "# Define parameter grid to search over\n",
    "param_grid = {'lgr__C': [0.1, 0.5, 0.75, 1, 2], 'lgr__penalty': ['l2']}\n",
    "\n",
    "# Create logistic regression object\n",
    "lr = LogisticRegression(max_iter=100)\n",
    "\n",
    "# Create pipeline object\n",
    "pipeline = Pipeline([\n",
    "    ('scaler', StandardScaler()), # normalize the data using StandardScaler\n",
    "    ('lgr', lr) # logistic regression classifier\n",
    "])\n",
    "\n",
    "\n",
    "# Create GridSearchCV object\n",
    "grid_lgr = GridSearchCV(pipeline, param_grid, cv=5, scoring='accuracy')\n",
    "\n",
    "# Fit the GridSearchCV object to the data\n",
    "grid_lgr.fit(X_train_reduced, y_train_resampled)\n",
    "\n",
    "# Print best hyperparameters and corresponding accuracy score\n",
    "print(\"Best hyperparameters: \", grid_lgr.best_params_)\n",
    "print(\"Best Score: \", grid_lgr.best_score_)\n",
    "\n",
    "scaler = StandardScaler()\n",
    "X_test_scaled = scaler.fit_transform(X_test)\n",
    "pca = PCA(n_components=2)\n",
    "X_test_reduced = pca.fit_transform(X_test_scaled)\n",
    "\n",
    "# Evaluate accuracy on the test set\n",
    "y_pred = grid_lgr.best_estimator_.predict(X_test_reduced)\n",
    "accuracy = accuracy_score(y_test, y_pred)\n",
    "print(\"Test Accuracy Score: \", accuracy)\n",
    "\n",
    "#Fit time\n",
    "grid_lgr_index = [i for i, d in enumerate(grid_lgr.cv_results_['params']) if set(d.items()) == set(grid_lgr.best_params_.items())]\n",
    "lgr_fit_time = grid_lgr.cv_results_['mean_fit_time'][grid_lgr_index]\n",
    "print(\"Fit time: \",lgr_fit_time )\n",
    "\n"
   ]
  },
  {
   "cell_type": "markdown",
   "id": "e864d1a9",
   "metadata": {},
   "source": [
    "With all features."
   ]
  },
  {
   "cell_type": "code",
   "execution_count": 30,
   "id": "f3b98f4e",
   "metadata": {},
   "outputs": [
    {
     "name": "stdout",
     "output_type": "stream",
     "text": [
      "Best hyperparameters:  {'lgr__C': 0.5, 'lgr__penalty': 'l2'}\n",
      "Best Score:  0.7973281159942621\n",
      "Test Accuracy Score:  0.815559186455629\n",
      "Fit time:  [43.50900016]\n"
     ]
    }
   ],
   "source": [
    "from sklearn.model_selection import GridSearchCV\n",
    "from sklearn.pipeline import Pipeline\n",
    "from sklearn.preprocessing import StandardScaler\n",
    "from sklearn.linear_model import LogisticRegression\n",
    "from sklearn.metrics import make_scorer, recall_score, accuracy_score\n",
    "\n",
    "\n",
    "# Define parameter grid to search over\n",
    "param_grid = {'lgr__C': [0.1, 0.5, 0.75, 1, 2], 'lgr__penalty': ['l2']}\n",
    "\n",
    "# Create logistic regression object\n",
    "lr = LogisticRegression(max_iter=1000)\n",
    "\n",
    "# Create pipeline object\n",
    "pipeline = Pipeline([\n",
    "    ('scaler', StandardScaler()), # normalize the data using StandardScaler\n",
    "    ('lgr', lr) # logistic regression classifier\n",
    "])\n",
    "\n",
    "\n",
    "# Create GridSearchCV object\n",
    "grid_lgr = GridSearchCV(pipeline, param_grid, cv=5, scoring='accuracy')\n",
    "\n",
    "# Fit the GridSearchCV object to the data\n",
    "grid_lgr.fit(X_train_resampled, y_train_resampled)\n",
    "\n",
    "# Print best hyperparameters and corresponding accuracy score\n",
    "print(\"Best hyperparameters: \", grid_lgr.best_params_)\n",
    "print(\"Best Score: \", grid_lgr.best_score_)\n",
    "\n",
    "\n",
    "# Evaluate accuracy on the test set\n",
    "y_pred = grid_lgr.best_estimator_.predict(X_test)\n",
    "accuracy = accuracy_score(y_test, y_pred)\n",
    "print(\"Test Accuracy Score: \", accuracy)\n",
    "\n",
    "#Fit time\n",
    "grid_lgr_index = [i for i, d in enumerate(grid_lgr.cv_results_['params']) if set(d.items()) == set(grid_lgr.best_params_.items())]\n",
    "lgr_fit_time = grid_lgr.cv_results_['mean_fit_time'][grid_lgr_index]\n",
    "print(\"Fit time: \",lgr_fit_time )\n",
    "\n"
   ]
  },
  {
   "cell_type": "markdown",
   "id": "7be2881d",
   "metadata": {},
   "source": [
    "#### Learning curve for Logistic Regression"
   ]
  },
  {
   "cell_type": "code",
   "execution_count": null,
   "id": "83a824f0",
   "metadata": {},
   "outputs": [],
   "source": [
    "from sklearn.model_selection import learning_curve\n",
    "\n",
    "\n",
    "# Define the range of training set sizes to use for the learning curve\n",
    "train_sizes = [10000, 100000, 500000, 1000000, 2796828]\n",
    "\n",
    "# Compute the learning curve scores for the grid search object\n",
    "train_sizes_abs, train_scores, test_scores = learning_curve(\n",
    "    estimator=grid_lgr, X=X_train_resampled, y=y_train_resampled, train_sizes=train_sizes, cv=5, \n",
    "    scoring='accuracy', n_jobs=-1\n",
    ")\n",
    "\n",
    "# Compute the mean and standard deviation of the training and test scores\n",
    "train_scores_mean = np.mean(train_scores, axis=1)\n",
    "train_scores_std = np.std(train_scores, axis=1)\n",
    "test_scores_mean = np.mean(test_scores, axis=1)\n",
    "test_scores_std = np.std(test_scores, axis=1)\n",
    "\n",
    "# Plot the learning curve\n",
    "plt.plot(train_sizes_abs, train_scores_mean, 'o-', color=\"r\", label=\"Training score\")\n",
    "plt.plot(train_sizes_abs, test_scores_mean, 'o-', color=\"g\", label=\"Cross-validation score\")\n",
    "plt.fill_between(train_sizes_abs, train_scores_mean - train_scores_std,\n",
    "                 train_scores_mean + train_scores_std, alpha=0.1, color=\"r\")\n",
    "plt.fill_between(train_sizes_abs, test_scores_mean - test_scores_std,\n",
    "                 test_scores_mean + test_scores_std, alpha=0.1, color=\"g\")\n",
    "plt.xlabel(\"Training examples\")\n",
    "plt.ylabel(\"Score\")\n",
    "plt.legend(loc=\"best\")\n",
    "plt.show()"
   ]
  },
  {
   "cell_type": "markdown",
   "id": "706664b0",
   "metadata": {},
   "source": [
    "### K-Nearest Neighbors"
   ]
  },
  {
   "cell_type": "code",
   "execution_count": 23,
   "id": "4a9b0dd2",
   "metadata": {},
   "outputs": [
    {
     "name": "stdout",
     "output_type": "stream",
     "text": [
      "Best Parameters:  {'knn__n_neighbors': 100, 'knn__weights': 'uniform'}\n",
      "Best Score:  0.7927105992931993\n",
      "Test Accuracy Score:  0.5056613878598422\n",
      "Fit time:  [2.0982532]\n"
     ]
    }
   ],
   "source": [
    "from sklearn.model_selection import GridSearchCV\n",
    "from sklearn.neighbors import KNeighborsClassifier\n",
    "from sklearn.pipeline import Pipeline\n",
    "from sklearn.preprocessing import StandardScaler\n",
    "from sklearn.metrics import make_scorer, recall_score, accuracy_score\n",
    "\n",
    "# Define the KNN model\n",
    "pipeline_knn = Pipeline([\n",
    "    ('scaler', StandardScaler()), # normalize the data using StandardScaler\n",
    "    ('knn', KNeighborsClassifier()) \n",
    "])\n",
    "\n",
    "# Define the hyperparameter grid to search over\n",
    "param_grid = {'knn__n_neighbors': [10, 20, 30, 40, 50, 60, 70, 80, 90, 100], 'knn__weights': ['distance', 'uniform']}\n",
    "\n",
    "# Perform the grid search with 5-fold cross-validation\n",
    "grid_knn = GridSearchCV(pipeline_knn, param_grid, cv=5, scoring = 'accuracy')\n",
    "\n",
    "# Fit the grid search to the data\n",
    "grid_knn.fit(X_train_reduced, y_train_resampled)\n",
    "\n",
    "# Print the best parameters and best score\n",
    "print(\"Best Parameters: \", grid_knn.best_params_)\n",
    "print(\"Best Score: \", grid_knn.best_score_)\n",
    "\n",
    "scaler = StandardScaler()\n",
    "X_test_scaled = scaler.fit_transform(X_test)\n",
    "pca = PCA(n_components=2)\n",
    "X_test_reduced = pca.fit_transform(X_test_scaled)\n",
    "\n",
    "# Evaluate accuracy on the test set\n",
    "y_pred = grid_knn.best_estimator_.predict(X_test_reduced)\n",
    "accuracy = accuracy_score(y_test, y_pred)\n",
    "print(\"Test Accuracy Score: \", accuracy)\n",
    "\n",
    "#Fit time\n",
    "grid_knn_index = [i for i, d in enumerate(grid_knn.cv_results_['params']) if set(d.items()) == set(grid_knn.best_params_.items())]\n",
    "knn_fit_time = grid_knn.cv_results_['mean_fit_time'][grid_knn_index]\n",
    "print(\"Fit time: \",knn_fit_time )\n"
   ]
  },
  {
   "cell_type": "markdown",
   "id": "01650699",
   "metadata": {},
   "source": [
    "#### KNN learning curve."
   ]
  },
  {
   "cell_type": "code",
   "execution_count": null,
   "id": "16c5926e",
   "metadata": {},
   "outputs": [],
   "source": [
    "from sklearn.model_selection import learning_curve\n",
    "\n",
    "# Define the range of training set sizes to use for the learning curve\n",
    "train_sizes = [5, 10, 15, 20, 25, 30, 35, 40, 50, 56]\n",
    "\n",
    "# Compute the learning curve scores for the grid search object\n",
    "train_sizes_abs, train_scores, test_scores = learning_curve(\n",
    "    estimator=grid_knn, X=X_train_resampled, y=y_train_resampled, train_sizes=train_sizes, cv=5, \n",
    "    scoring='recall_weighted', n_jobs=-1\n",
    ")\n",
    "\n",
    "# Compute the mean and standard deviation of the training and test scores\n",
    "train_scores_mean = np.mean(train_scores, axis=1)\n",
    "train_scores_std = np.std(train_scores, axis=1)\n",
    "test_scores_mean = np.mean(test_scores, axis=1)\n",
    "test_scores_std = np.std(test_scores, axis=1)\n",
    "\n",
    "# Plot the learning curve\n",
    "plt.plot(train_sizes_abs, train_scores_mean, 'o-', color=\"r\", label=\"Training score\")\n",
    "plt.plot(train_sizes_abs, test_scores_mean, 'o-', color=\"g\", label=\"Cross-validation score\")\n",
    "plt.fill_between(train_sizes_abs, train_scores_mean - train_scores_std,\n",
    "                 train_scores_mean + train_scores_std, alpha=0.1, color=\"r\")\n",
    "plt.fill_between(train_sizes_abs, test_scores_mean - test_scores_std,\n",
    "                 test_scores_mean + test_scores_std, alpha=0.1, color=\"g\")\n",
    "plt.xlabel(\"Training examples\")\n",
    "plt.ylabel(\"Score\")\n",
    "plt.legend(loc=\"best\")\n",
    "plt.show()"
   ]
  },
  {
   "cell_type": "markdown",
   "id": "6c0b02a8",
   "metadata": {},
   "source": [
    "### Decision Tree"
   ]
  },
  {
   "cell_type": "code",
   "execution_count": null,
   "id": "81e1ca91",
   "metadata": {},
   "outputs": [],
   "source": [
    "from sklearn.pipeline import Pipeline\n",
    "from sklearn.tree import DecisionTreeClassifier\n",
    "from sklearn.model_selection import GridSearchCV\n",
    "\n",
    "# Define the pipeline\n",
    "pipeline = Pipeline([\n",
    "    ('scaler', StandardScaler()), # normalize the data using StandardScaler\n",
    "    ('dtc', DecisionTreeClassifier())\n",
    "])\n",
    "\n",
    "# Define the parameter grid for GridSearchCV\n",
    "param_grid = {\n",
    "    'dtc__criterion': ['gini', 'entropy'],\n",
    "    'dtc__max_depth': [3, 4, 5, 6, 7, 8, 9, 10, 11, 12, 20, 40],\n",
    "    'dtc__min_samples_leaf': [1, 2, 3, 4, 5, 10],\n",
    "    'dtc__min_samples_split': [2, 3, 4]\n",
    "}\n",
    "\n",
    "# Create the GridSearchCV object\n",
    "grid_dtc = GridSearchCV(pipeline, param_grid, cv=5, scoring='accuracy')\n",
    "\n",
    "# Fit the GridSearchCV object to the data\n",
    "grid_dtc.fit(X_train_reduced, y_train_resampled)\n",
    "\n",
    "# Print the best parameters and best score\n",
    "print(\"Best Parameters: \", grid_dtc.best_params_)\n",
    "print(\"Best Score: \", grid_dtc.best_score_)\n",
    "\n",
    "scaler = StandardScaler()\n",
    "X_test_scaled = scaler.fit_transform(X_test)\n",
    "pca = PCA(n_components=2)\n",
    "X_test_reduced = pca.fit_transform(X_test_scaled)\n",
    "\n",
    "\n",
    "# Evaluate accuracy on the test set\n",
    "y_pred = grid_dtc.best_estimator_.predict(X_test_reduced)\n",
    "accuracy = accuracy_score(y_test, y_pred)\n",
    "print(\"Test Accuracy Score: \", accuracy)\n",
    "\n",
    "#Fit time\n",
    "grid_dtc_index = [i for i, d in enumerate(grid_dtc.cv_results_['params']) if set(d.items()) == set(grid_dtc.best_params_.items())]\n",
    "dtc_fit_time = grid_dtc.cv_results_['mean_fit_time'][grid_dtc_index]\n",
    "print(\"Fit time: \",dtc_fit_time )\n"
   ]
  },
  {
   "cell_type": "markdown",
   "id": "40eb616f",
   "metadata": {},
   "source": [
    "#### Decision Tree learning curve."
   ]
  },
  {
   "cell_type": "code",
   "execution_count": null,
   "id": "739679dd",
   "metadata": {},
   "outputs": [],
   "source": [
    "from sklearn.model_selection import learning_curve\n",
    "\n",
    "# Define the range of training set sizes to use for the learning curve\n",
    "train_sizes = [5, 10, 15, 20, 25, 30, 35, 40, 50, 56]\n",
    "\n",
    "\n",
    "# Compute the learning curve scores for the grid search object\n",
    "train_sizes_abs, train_scores, test_scores = learning_curve(\n",
    "    estimator=grid_dtc, X=X_train_resampled, y=y_train_resampled, train_sizes=train_sizes, cv=5, \n",
    "    scoring=scorer, n_jobs=-1\n",
    ")\n",
    "\n",
    "# Compute the mean and standard deviation of the training and test scores\n",
    "train_scores_mean = np.mean(train_scores, axis=1)\n",
    "train_scores_std = np.std(train_scores, axis=1)\n",
    "test_scores_mean = np.mean(test_scores, axis=1)\n",
    "test_scores_std = np.std(test_scores, axis=1)\n",
    "\n",
    "# Plot the learning curve\n",
    "plt.plot(train_sizes_abs, train_scores_mean, 'o-', color=\"r\", label=\"Training score\")\n",
    "plt.plot(train_sizes_abs, test_scores_mean, 'o-', color=\"g\", label=\"Cross-validation score\")\n",
    "plt.fill_between(train_sizes_abs, train_scores_mean - train_scores_std,\n",
    "                 train_scores_mean + train_scores_std, alpha=0.1, color=\"r\")\n",
    "plt.fill_between(train_sizes_abs, test_scores_mean - test_scores_std,\n",
    "                 test_scores_mean + test_scores_std, alpha=0.1, color=\"g\")\n",
    "plt.xlabel(\"Training examples\")\n",
    "plt.ylabel(\"Score\")\n",
    "plt.legend(loc=\"best\")\n",
    "plt.show()"
   ]
  },
  {
   "cell_type": "markdown",
   "id": "b6259990",
   "metadata": {},
   "source": [
    "### SVM"
   ]
  },
  {
   "cell_type": "code",
   "execution_count": 62,
   "id": "9f462756",
   "metadata": {},
   "outputs": [
    {
     "name": "stdout",
     "output_type": "stream",
     "text": [
      "Best Parameters:  {'svm__C': 10, 'svm__gamma': 'scale', 'svm__kernel': 'rbf'}\n",
      "Best Score:  0.5522875816993464\n",
      "Test Recall Score:  0.5\n",
      "Fit time:  [0.00290775]\n"
     ]
    }
   ],
   "source": [
    "from sklearn.svm import SVC\n",
    "\n",
    "# Define the pipeline\n",
    "pipeline = Pipeline([\n",
    "    ('scaler', StandardScaler()), # normalize the data using StandardScaler\n",
    "    ('svm', SVC())\n",
    "])\n",
    "\n",
    "# Define the parameter grid for GridSearchCV\n",
    "param_grid = {\n",
    "    'svm__C': [0.1, 1, 10],\n",
    "    'svm__kernel': ['linear', 'rbf'],\n",
    "    'svm__gamma': ['scale', 'auto']\n",
    "}\n",
    "\n",
    "# Create the GridSearchCV object\n",
    "grid_svm = GridSearchCV(pipeline, param_grid, cv=5, scoring='accuracy')\n",
    "\n",
    "# Fit the GridSearchCV object to the data\n",
    "grid_svm.fit(X_train_reduced, y_train_resampled)\n",
    "\n",
    "# Print the best parameters and best score\n",
    "print(\"Best Parameters: \", grid_svm.best_params_)\n",
    "print(\"Best Score: \", grid_svm.best_score_)\n",
    "\n",
    "scaler = StandardScaler()\n",
    "X_test_scaled = scaler.fit_transform(X_test)\n",
    "pca = PCA(n_components=2)\n",
    "X_test_reduced = pca.fit_transform(X_test_scaled)\n",
    "\n",
    "# Evaluate accuracy on the test set\n",
    "y_pred = grid_svm.best_estimator_.predict(X_test_reduced)\n",
    "accuracy = accuracy_score(y_test, y_pred)\n",
    "print(\"Test Accuracy Score: \", accuracy)\n",
    "\n",
    "#Fit time\n",
    "grid_svm_index = [i for i, d in enumerate(grid_svm.cv_results_['params']) if set(d.items()) == set(grid_svm.best_params_.items())]\n",
    "svm_fit_time = grid_svm.cv_results_['mean_fit_time'][grid_svm_index]\n",
    "print(\"Fit time: \",svm_fit_time )\n"
   ]
  },
  {
   "cell_type": "markdown",
   "id": "00b69c15",
   "metadata": {},
   "source": [
    "### Learning curve for SVM"
   ]
  },
  {
   "cell_type": "code",
   "execution_count": null,
   "id": "4e0fe003",
   "metadata": {},
   "outputs": [],
   "source": [
    "from sklearn.model_selection import learning_curve\n",
    "warnings.filterwarnings(\"ignore\", message=\"The least populated class in y has only 1 members\")\n",
    "\n",
    "# Define the range of training set sizes to use for the learning curve\n",
    "train_sizes = [5, 10, 15, 20, 25, 30, 35, 40, 50, 56]\n",
    "\n",
    "# Compute the learning curve scores for the grid search object\n",
    "train_sizes_abs, train_scores, test_scores = learning_curve(\n",
    "    estimator=grid_svm, X=X_train_resampled, y=y_train_resampled, train_sizes=train_sizes, cv=5, \n",
    "    scoring='recall_weighted', n_jobs=-1\n",
    ")\n",
    "\n",
    "# Compute the mean and standard deviation of the training and test scores\n",
    "train_scores_mean = np.mean(train_scores, axis=1)\n",
    "train_scores_std = np.std(train_scores, axis=1)\n",
    "test_scores_mean = np.mean(test_scores, axis=1)\n",
    "test_scores_std = np.std(test_scores, axis=1)\n",
    "\n",
    "# Plot the learning curve\n",
    "plt.plot(train_sizes_abs, train_scores_mean, 'o-', color=\"r\", label=\"Training score\")\n",
    "plt.plot(train_sizes_abs, test_scores_mean, 'o-', color=\"g\", label=\"Cross-validation score\")\n",
    "plt.fill_between(train_sizes_abs, train_scores_mean - train_scores_std,\n",
    "                 train_scores_mean + train_scores_std, alpha=0.1, color=\"r\")\n",
    "plt.fill_between(train_sizes_abs, test_scores_mean - test_scores_std,\n",
    "                 test_scores_mean + test_scores_std, alpha=0.1, color=\"g\")\n",
    "plt.xlabel(\"Training examples\")\n",
    "plt.ylabel(\"Score\")\n",
    "plt.legend(loc=\"best\")\n",
    "plt.show()"
   ]
  },
  {
   "cell_type": "markdown",
   "id": "a92e43b4",
   "metadata": {},
   "source": [
    "#### Confusion Matrix (these matrices belong to an earlier analysis looking at peak frequency. WIll have to re do them for power spectrum)"
   ]
  },
  {
   "cell_type": "code",
   "execution_count": 42,
   "id": "e9ec0d46",
   "metadata": {},
   "outputs": [
    {
     "data": {
      "image/png": "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\n",
      "text/plain": [
       "<Figure size 500x1500 with 8 Axes>"
      ]
     },
     "metadata": {},
     "output_type": "display_data"
    }
   ],
   "source": [
    "from sklearn.metrics import confusion_matrix\n",
    "import matplotlib.pyplot as plt\n",
    "import seaborn as sns\n",
    "\n",
    "# create subplots\n",
    "fig, axs = plt.subplots(nrows=4, ncols=1, figsize=(5, 15))\n",
    "\n",
    "# set the title for the subplots\n",
    "titles = ['Logistic Regression', 'KNN', 'Decision Tree', 'SVM']\n",
    "\n",
    "# iterate through the models and plot confusion matrix\n",
    "for idx, model in enumerate([grid_lgr, grid_knn, grid_dtc, grid_svm]):\n",
    "    # Assuming y_test contains the true class labels and y_pred contains the predicted class labels\n",
    "    # Compute the confusion matrix\n",
    "    y_pred = model.predict(X_test)\n",
    "    cm = confusion_matrix(y_test, y_pred, labels=[0, 1, 2])\n",
    "\n",
    "    # Create a list of class labels\n",
    "    class_labels = ['Controls', 'FT', 'Alzheimers']\n",
    "\n",
    "    # Create a heatmap of the confusion matrix on the corresponding subplot\n",
    "    sns.heatmap(cm, annot=True, fmt='g', cmap='Blues', xticklabels=class_labels, yticklabels=class_labels, ax=axs[idx])\n",
    "\n",
    "    # Set axis labels and title for the subplot\n",
    "    axs[idx].set_xlabel('Predicted')\n",
    "    axs[idx].set_ylabel('Actual')\n",
    "    axs[idx].set_title(titles[idx])\n",
    "\n",
    "# Adjust the layout of subplots\n",
    "plt.tight_layout()\n",
    "\n",
    "# Show the plot\n",
    "plt.show()\n"
   ]
  },
  {
   "cell_type": "markdown",
   "id": "7071f510",
   "metadata": {},
   "source": [
    "### Best model"
   ]
  },
  {
   "cell_type": "markdown",
   "id": "c59ca79c",
   "metadata": {},
   "source": [
    "Decision Tree: \n",
    "1. High accuracy and recall\n",
    "2. High interpretibility"
   ]
  },
  {
   "cell_type": "code",
   "execution_count": 46,
   "id": "34c251de",
   "metadata": {},
   "outputs": [
    {
     "name": "stdout",
     "output_type": "stream",
     "text": [
      "MMSE: 0.7772068573593484\n",
      "P4: 0.10403663421377521\n",
      "O2: 0.07001425708617058\n",
      "Age: 0.0401231947011908\n",
      "T5: 0.004641030498200426\n",
      "T6: 0.003978026141314659\n",
      "Fp2: 0.0\n",
      "F3: 0.0\n",
      "F4: 0.0\n",
      "C3: 0.0\n",
      "C4: 0.0\n",
      "P3: 0.0\n",
      "F7: 0.0\n",
      "O1: 0.0\n",
      "F8: 0.0\n",
      "T3: 0.0\n",
      "T4: 0.0\n",
      "Fz: 0.0\n",
      "Cz: 0.0\n",
      "Pz: 0.0\n",
      "Fp1: 0.0\n"
     ]
    }
   ],
   "source": [
    "## Examine important features\n",
    "best_estimator = grid_dtc.best_estimator_\n",
    "classifier = best_estimator.named_steps['dtc']  # Replace 'classifier' with the appropriate name of the classifier step in your pipeline\n",
    "importances = classifier.feature_importances_\n",
    "indices = np.argsort(importances)[::-1]\n",
    "\n",
    "# Print feature importances\n",
    "for f in range(X_train_resampled.shape[1]):\n",
    "    print(f\"{X_train_resampled.columns[indices[f]]}: {importances[indices[f]]}\")"
   ]
  },
  {
   "cell_type": "code",
   "execution_count": 47,
   "id": "2298104a",
   "metadata": {},
   "outputs": [
    {
     "data": {
      "image/png": "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\n",
      "text/plain": [
       "<Figure size 800x600 with 1 Axes>"
      ]
     },
     "metadata": {},
     "output_type": "display_data"
    }
   ],
   "source": [
    "# Get the feature names (peak frequency values or ranges) corresponding to the sorted importances\n",
    "feature_names = X_train_resampled.columns\n",
    "\n",
    "# Sort the feature names based on the importances order\n",
    "sorted_feature_names = [feature_names[i] for i in indices]\n",
    "\n",
    "# Plot the feature importances as a bar plot\n",
    "plt.figure(figsize=(8, 6))\n",
    "plt.bar(range(len(importances)), importances[indices], align='center')\n",
    "plt.xticks(range(len(importances)), sorted_feature_names, rotation=90)\n",
    "plt.xlabel('Peak Frequency Feature')\n",
    "plt.ylabel('Importance Score')\n",
    "plt.title('Feature Importances for Alzheimer\\'s Diagnosis')\n",
    "plt.tight_layout()\n",
    "plt.show()"
   ]
  },
  {
   "cell_type": "code",
   "execution_count": null,
   "id": "774213d6",
   "metadata": {},
   "outputs": [],
   "source": [
    "from sklearn.inspection import permutation_importance\n",
    "\n",
    "# Compute the permutation importances\n",
    "result = permutation_importance(grid_dtc.best_estimator_, X_test, y_test, n_repeats=10, random_state=42, n_jobs=-1)\n",
    "\n",
    "# Get the feature importances and their indices\n",
    "importances = result.importances_mean\n",
    "indices = np.argsort(importances)[::-1]\n",
    "\n",
    "# Print the feature importances\n",
    "for i, idx in enumerate(indices):\n",
    "    print(f\"Feature {i+1}: {X.columns[idx]} ({importances[idx]})\")\n",
    "\n",
    "# Plot the feature importances\n",
    "plt.bar(range(X.shape[1]), importances[indices])\n",
    "plt.xticks(range(X.shape[1]), X.columns[indices], rotation=90)\n",
    "plt.xlabel(\"Feature\")\n",
    "plt.ylabel(\"Permutation Importance\")\n",
    "plt.show()"
   ]
  },
  {
   "cell_type": "markdown",
   "id": "c7e4880b",
   "metadata": {},
   "source": [
    "#### Create Final Dataframe"
   ]
  },
  {
   "cell_type": "code",
   "execution_count": 158,
   "id": "ef505f8c",
   "metadata": {},
   "outputs": [
    {
     "name": "stdout",
     "output_type": "stream",
     "text": [
      "               time (ms)  \\\n",
      "model                      \n",
      "Logistic        0.008898   \n",
      "KNN             0.002618   \n",
      "Decision Tree   0.002899   \n",
      "SVM             0.003545   \n",
      "\n",
      "                                                                                                                best_params  \n",
      "model                                                                                                                        \n",
      "Logistic                                                                                {'lgr__C': 2, 'lgr__penalty': 'l2'}  \n",
      "KNN                                                                     {'knn__n_neighbors': 5, 'knn__weights': 'distance'}  \n",
      "Decision Tree  {'dtc__criterion': 'entropy', 'dtc__max_depth': 20, 'dtc__min_samples_leaf': 5, 'dtc__min_samples_split': 3}  \n",
      "SVM                                                           {'svm__C': 1, 'svm__gamma': 'scale', 'svm__kernel': 'linear'}  \n"
     ]
    }
   ],
   "source": [
    "## Dataframe for Bag of Words Model\n",
    "\n",
    "df_score = pd.DataFrame({'model': ['Logistic', 'KNN','Decision Tree', 'SVM'], \n",
    "              'time (ms)' : [ float(lgr_fit_time), float(knn_fit_time), float(dtc_fit_time), float(svm_fit_time)],\n",
    "             'best_params': [grid_lgr.best_params_, grid_knn.best_params_, grid_dtc.best_params_, grid_svm.best_params_]}).set_index('model')\n",
    "pd.set_option('display.width', 50)\n",
    "pd.set_option('display.max_colwidth', None)\n",
    "df_score = df_score.replace({'\\n': ' '}, regex=True)\n",
    "\n",
    "print(df_score)"
   ]
  },
  {
   "cell_type": "markdown",
   "id": "ecbc1381",
   "metadata": {},
   "source": [
    "# Research Question 2 (To work on)"
   ]
  },
  {
   "cell_type": "markdown",
   "id": "b1529232",
   "metadata": {},
   "source": [
    "In adults with dementia, what EEG components are predictive of low cognition?"
   ]
  },
  {
   "cell_type": "markdown",
   "id": "2943a951",
   "metadata": {},
   "source": [
    "Reduce dataframe to only include patients with dementia (FTD and Alzhiemers)"
   ]
  },
  {
   "cell_type": "code",
   "execution_count": null,
   "id": "85ef8cd7",
   "metadata": {
    "scrolled": true
   },
   "outputs": [],
   "source": [
    "new_df = df_ps_new[(df_ps_new['dx_num'] == 1) | (df_ps_new['dx_num'] == 2)]"
   ]
  },
  {
   "cell_type": "markdown",
   "id": "9aabad66",
   "metadata": {},
   "source": [
    "### Train Test Split"
   ]
  },
  {
   "cell_type": "code",
   "execution_count": null,
   "id": "2fe51445",
   "metadata": {},
   "outputs": [],
   "source": [
    "X = df_ps_new.reset_index().drop(columns = ['dx_num', 'Group', 'subj_id', 'MMSE', 'Age'], axis=1)\n",
    "y = df_ps_new['MMSE']"
   ]
  },
  {
   "cell_type": "code",
   "execution_count": null,
   "id": "4221b5ad",
   "metadata": {},
   "outputs": [],
   "source": [
    "from sklearn.model_selection import train_test_split\n",
    "\n",
    "X_train, X_test, y_train, y_test = train_test_split(X, y, test_size = 0.2, random_state = 32, stratify = y)"
   ]
  },
  {
   "cell_type": "code",
   "execution_count": null,
   "id": "b187c0bf",
   "metadata": {},
   "outputs": [],
   "source": [
    "# Resample\n",
    "from imblearn.over_sampling import SMOTE\n",
    "\n",
    "# initialize SMOTE\n",
    "sm = SMOTE(random_state=42)\n",
    "X_train_resampled, y_train_resampled = sm.fit_resample(X_train, y_train)\n",
    "\n",
    "print(y_train_resampled.value_counts())\n"
   ]
  },
  {
   "cell_type": "markdown",
   "id": "2e95dab0",
   "metadata": {},
   "source": [
    "## Regression Analysis"
   ]
  },
  {
   "cell_type": "markdown",
   "id": "8921bca9",
   "metadata": {},
   "source": [
    "### Linear Regression"
   ]
  },
  {
   "cell_type": "code",
   "execution_count": null,
   "id": "26a9006d",
   "metadata": {},
   "outputs": [],
   "source": [
    "from sklearn.linear_model import LinearRegression\n",
    "from sklearn.metrics import accuracy_score\n",
    "\n",
    "# Create and fit the linear regression model\n",
    "pipeline_linear = Pipeline([\n",
    "    ('scaler', StandardScaler()),\n",
    "    ('regression', LinearRegression())\n",
    "])\n",
    "\n",
    "pipeline_linear.fit(X_train_resampled, y_train_resampled)\n",
    "\n",
    "# Predict on the test set\n",
    "linear_pred = pipeline_linear.predict(X_test)\n",
    "\n",
    "# Calculate accuracy score\n",
    "linear_accuracy = accuracy_score(y_test, linear_pred_classes)\n",
    "print(\"Linear Regression Accuracy: \", linear_accuracy)\n"
   ]
  },
  {
   "cell_type": "code",
   "execution_count": null,
   "id": "2c6595bc",
   "metadata": {},
   "outputs": [],
   "source": [
    "# Plot for linear\n",
    "\n",
    "import matplotlib.pyplot as plt\n",
    "\n",
    "# Assuming you have the actual values stored in 'y_actual' and predicted values stored in 'y_predicted'\n",
    "plt.scatter(y_actual, linear_pred)\n",
    "plt.xlabel('Actual Values')\n",
    "plt.ylabel('Predicted Values')\n",
    "plt.title('Scatter Plot of Actual vs. Predicted Values Polynomial Regression')\n",
    "plt.show()\n"
   ]
  },
  {
   "cell_type": "markdown",
   "id": "2598ac0c",
   "metadata": {},
   "source": [
    "### Polynomial Regression"
   ]
  },
  {
   "cell_type": "code",
   "execution_count": null,
   "id": "507e6f68",
   "metadata": {},
   "outputs": [],
   "source": [
    "from sklearn.pipeline import Pipeline\n",
    "from sklearn.preprocessing import PolynomialFeatures, StandardScaler\n",
    "from sklearn.linear_model import LinearRegression\n",
    "from sklearn.model_selection import GridSearchCV\n",
    "\n",
    "# Define the pipeline\n",
    "pipeline = Pipeline([\n",
    "    ('poly', PolynomialFeatures()),\n",
    "    ('scaler', StandardScaler()),\n",
    "    ('regression', LinearRegression())\n",
    "])\n",
    "\n",
    "# Define the parameter grid for GridSearchCV\n",
    "param_grid = {\n",
    "    'poly__degree': [2, 3, 4],\n",
    "    'regression__fit_intercept': [True, False]\n",
    "}\n",
    "\n",
    "# Create the GridSearchCV object\n",
    "grid_search = GridSearchCV(pipeline, param_grid, cv=5)\n",
    "\n",
    "# Fit the GridSearchCV object to the training data\n",
    "grid_search.fit(X_train_resampled, y_train_resampled)\n",
    "\n",
    "# Get the best polynomial degree and intercept fit\n",
    "best_degree = grid_search.best_params_['poly__degree']\n",
    "best_intercept = grid_search.best_params_['regression__fit_intercept']\n",
    "\n",
    "# Predict on the test data\n",
    "y_pred = grid_search.predict(X_test)\n",
    "\n",
    "# Evaluate the model using accuracy_score\n",
    "accuracy = accuracy_score(y_test, y_pred)\n",
    "print(\"Accuracy:\", accuracy)"
   ]
  },
  {
   "cell_type": "code",
   "execution_count": null,
   "id": "ed3a7b31",
   "metadata": {},
   "outputs": [],
   "source": [
    "# Plot for polyomial\n",
    "\n",
    "import matplotlib.pyplot as plt\n",
    "\n",
    "# Assuming you have the actual values stored in 'y_actual' and predicted values stored in 'y_predicted'\n",
    "plt.scatter(y_actual, y_pred)\n",
    "plt.xlabel('Actual Values')\n",
    "plt.ylabel('Predicted Values')\n",
    "plt.title('Scatter Plot of Actual vs. Predicted Values Polynomial Regression')\n",
    "plt.show()\n"
   ]
  },
  {
   "cell_type": "markdown",
   "id": "cae621da",
   "metadata": {},
   "source": [
    "### Ridge Regression"
   ]
  },
  {
   "cell_type": "code",
   "execution_count": null,
   "id": "5f23a465",
   "metadata": {},
   "outputs": [],
   "source": [
    "from sklearn.linear_model import Ridge\n",
    "from sklearn.model_selection import GridSearchCV\n",
    "from sklearn.metrics import accuracy_score\n",
    "\n",
    "# Create ridge regression model\n",
    "pipeline_ridge = Pipeline([\n",
    "    ('scaler', StandardScaler()),\n",
    "    ('regression', Ridge())\n",
    "])\n",
    "\n",
    "param_grid_ridge = {\n",
    "    'regression__alpha': [0.1, 0.5, 1, 2]\n",
    "}\n",
    "\n",
    "# Create GridSearchCV object\n",
    "grid_ridge = GridSearchCV(pipeline_ridge, param_grid, cv=5)\n",
    "\n",
    "# Fit the GridSearchCV object to the data\n",
    "grid_ridge.fit(X_train_resampled, y_train_resampled)\n",
    "\n",
    "# Get the best ridge regression model\n",
    "best_ridge_model = grid_ridge.best_estimator_\n",
    "\n",
    "# Predict on the test set\n",
    "ridge_pred = best_ridge_model.predict(X_test)\n",
    "\n",
    "# Calculate accuracy score\n",
    "ridge_accuracy = accuracy_score(y_test, ridge_pred)\n",
    "print(\"Ridge Regression Accuracy: \", ridge_accuracy)\n"
   ]
  },
  {
   "cell_type": "code",
   "execution_count": null,
   "id": "4f79999d",
   "metadata": {},
   "outputs": [],
   "source": [
    "# Plot for ridge\n",
    "\n",
    "import matplotlib.pyplot as plt\n",
    "\n",
    "# Assuming you have the actual values stored in 'y_actual' and predicted values stored in 'y_predicted'\n",
    "plt.scatter(y_actual, ridge_pred)\n",
    "plt.xlabel('Actual Values')\n",
    "plt.ylabel('Predicted Values')\n",
    "plt.title('Scatter Plot of Actual vs. Predicted Values Ridge Regression')\n",
    "plt.show()\n"
   ]
  },
  {
   "cell_type": "markdown",
   "id": "6c63c3c5",
   "metadata": {},
   "source": [
    "## Next Steps"
   ]
  },
  {
   "cell_type": "markdown",
   "id": "87957596",
   "metadata": {},
   "source": [
    "1. Remove warnings\n",
    "2. Results\n",
    "3. Interpretations\n",
    "4. Use other metrics"
   ]
  },
  {
   "cell_type": "code",
   "execution_count": null,
   "id": "6ae03fd5",
   "metadata": {},
   "outputs": [],
   "source": []
  }
 ],
 "metadata": {
  "kernelspec": {
   "display_name": "Python 3 (ipykernel)",
   "language": "python",
   "name": "python3"
  },
  "language_info": {
   "codemirror_mode": {
    "name": "ipython",
    "version": 3
   },
   "file_extension": ".py",
   "mimetype": "text/x-python",
   "name": "python",
   "nbconvert_exporter": "python",
   "pygments_lexer": "ipython3",
   "version": "3.9.12"
  }
 },
 "nbformat": 4,
 "nbformat_minor": 5
}
